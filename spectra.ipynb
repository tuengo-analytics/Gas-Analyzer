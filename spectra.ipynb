{
 "cells": [
  {
   "cell_type": "code",
   "execution_count": 63,
   "metadata": {},
   "outputs": [],
   "source": [
    "import pandas as pd\n",
    "import matplotlib.pyplot as plt\n",
    "import numpy as np"
   ]
  },
  {
   "cell_type": "code",
   "execution_count": 113,
   "metadata": {},
   "outputs": [],
   "source": [
    "def searchWindows(spectra_list,window,threshold, molecules):\n",
    "    start,end=0,0\n",
    "    for n in range(len(spectra_list)):\n",
    "        start+=spectra_list[n].iloc[0,0]\n",
    "        end+=spectra_list[n].iloc[-1,0]\n",
    "    start=start/len(spectra_list)\n",
    "    end=end/len(spectra_list)\n",
    "    collection=[]\n",
    "    for i in range(int((end-start)/window)):\n",
    "        w=start+i*window\n",
    "        sum_list=[]\n",
    "        max_sum=0\n",
    "        for spectrum in spectra_list:\n",
    "            sum_list.append(spectrum['sw'].loc[(spectrum['nu']>=w) & (spectrum['nu']<w+window)].sum())\n",
    "        \n",
    "        max_sum=np.max(sum_list)\n",
    "        criteria_met=True\n",
    "        for j in range(len(sum_list)):\n",
    "            sum_list[j]=sum_list[j]/max_sum\n",
    "            if sum_list[j]<threshold:\n",
    "                criteria_met=False\n",
    "        sum_list = [\"%.2f\" % number for number in sum_list]\n",
    "        coefs_list=[item for item in zip(molecules,sum_list)]\n",
    "        print(coefs_list)\n",
    "        if criteria_met:\n",
    "            collection.append((w,w+window))\n",
    "    return collection"
   ]
  },
  {
   "cell_type": "code",
   "execution_count": 152,
   "metadata": {},
   "outputs": [],
   "source": [
    "spectra=pd.read_csv('data/1520_1550.txt', sep='\\t')\n",
    "spectra['nm']=10000000/spectra['nu']\n",
    "h2o=spectra.loc[spectra['global_iso_id']==1,['nm','nu','sw']]\n",
    "h2o.reset_index(drop=True, inplace=True)\n",
    "h2s=spectra.loc[spectra['global_iso_id']==81,['nm','nu','sw']]\n",
    "h2s.reset_index(drop=True, inplace=True)\n",
    "co2=spectra.loc[spectra['global_iso_id']==7,['nm','nu','sw']]\n",
    "co2.reset_index(drop=True, inplace=True)"
   ]
  },
  {
   "cell_type": "code",
   "execution_count": 153,
   "metadata": {},
   "outputs": [
    {
     "data": {
      "text/plain": [
       "919"
      ]
     },
     "execution_count": 153,
     "metadata": {},
     "output_type": "execute_result"
    }
   ],
   "source": [
    "spectra.head()\n",
    "len(h2o)"
   ]
  },
  {
   "cell_type": "code",
   "execution_count": 154,
   "metadata": {},
   "outputs": [
    {
     "data": {
      "image/png": "[encoded data removed]",
      "text/plain": [
       "<Figure size 432x288 with 1 Axes>"
      ]
     },
     "metadata": {
      "needs_background": "light"
     },
     "output_type": "display_data"
    },
    {
     "data": {
      "text/plain": [
       "<Figure size 4320x360 with 0 Axes>"
      ]
     },
     "metadata": {},
     "output_type": "display_data"
    }
   ],
   "source": [
    "fig, ax = plt.subplots()\n",
    "plt.figure(figsize=(60,5))\n",
    "ax.plot(h2o['nm'],h2o['sw'],label='H2O')\n",
    "ax.plot(h2s['nm'],h2s['sw'],label='H2S')\n",
    "ax.plot(co2['nm'],co2['sw'],label='CO2')\n",
    "ax.legend(loc='upper center')\n",
    "#ax.set(xlim=(6450, 6550))\n",
    "ax.set_xlabel('nm')\n",
    "#plt.yscale('log')\n",
    "plt.show()"
   ]
  },
  {
   "cell_type": "code",
   "execution_count": 137,
   "metadata": {},
   "outputs": [
    {
     "data": {
      "text/html": [
       "<div>\n",
       "<style scoped>\n",
       "    .dataframe tbody tr th:only-of-type {\n",
       "        vertical-align: middle;\n",
       "    }\n",
       "\n",
       "    .dataframe tbody tr th {\n",
       "        vertical-align: top;\n",
       "    }\n",
       "\n",
       "    .dataframe thead th {\n",
       "        text-align: right;\n",
       "    }\n",
       "</style>\n",
       "<table border=\"1\" class=\"dataframe\">\n",
       "  <thead>\n",
       "    <tr style=\"text-align: right;\">\n",
       "      <th></th>\n",
       "      <th>nu</th>\n",
       "      <th>sw</th>\n",
       "    </tr>\n",
       "  </thead>\n",
       "  <tbody>\n",
       "    <tr>\n",
       "      <th>0</th>\n",
       "      <td>6450.0297</td>\n",
       "      <td>1.423000e-29</td>\n",
       "    </tr>\n",
       "    <tr>\n",
       "      <th>1</th>\n",
       "      <td>6450.0677</td>\n",
       "      <td>4.971000e-29</td>\n",
       "    </tr>\n",
       "    <tr>\n",
       "      <th>2</th>\n",
       "      <td>6450.2562</td>\n",
       "      <td>4.674000e-28</td>\n",
       "    </tr>\n",
       "    <tr>\n",
       "      <th>3</th>\n",
       "      <td>6450.3075</td>\n",
       "      <td>2.184000e-28</td>\n",
       "    </tr>\n",
       "    <tr>\n",
       "      <th>4</th>\n",
       "      <td>6450.4028</td>\n",
       "      <td>3.333000e-27</td>\n",
       "    </tr>\n",
       "  </tbody>\n",
       "</table>\n",
       "</div>"
      ],
      "text/plain": [
       "          nu            sw\n",
       "0  6450.0297  1.423000e-29\n",
       "1  6450.0677  4.971000e-29\n",
       "2  6450.2562  4.674000e-28\n",
       "3  6450.3075  2.184000e-28\n",
       "4  6450.4028  3.333000e-27"
      ]
     },
     "execution_count": 137,
     "metadata": {},
     "output_type": "execute_result"
    }
   ],
   "source": [
    "spectra_list=[h2o]+[h2s]+[co2]\n",
    "spectra_list[0].head()"
   ]
  },
  {
   "cell_type": "code",
   "execution_count": 138,
   "metadata": {},
   "outputs": [
    {
     "data": {
      "text/plain": [
       "(6450.066271999999, 6579.776291333333)"
      ]
     },
     "execution_count": 138,
     "metadata": {},
     "output_type": "execute_result"
    }
   ],
   "source": [
    "start,end=0,0\n",
    "for n in range(len(spectra_list)):\n",
    "    start+=spectra_list[n].iloc[0,0]\n",
    "    end+=spectra_list[n].iloc[-1,0]\n",
    "start=start/len(spectra_list)\n",
    "end=end/len(spectra_list)\n",
    "start,end"
   ]
  },
  {
   "cell_type": "code",
   "execution_count": null,
   "metadata": {},
   "outputs": [],
   "source": []
  },
  {
   "cell_type": "code",
   "execution_count": 139,
   "metadata": {},
   "outputs": [
    {
     "name": "stdout",
     "output_type": "stream",
     "text": [
      "[('H2O', '0.32'), ('H2S', '1.00'), ('CO2', '0.31')]\n"
     ]
    },
    {
     "data": {
      "text/plain": [
       "[(6450.066271999999, 6570.066271999999)]"
      ]
     },
     "execution_count": 139,
     "metadata": {},
     "output_type": "execute_result"
    }
   ],
   "source": [
    "window=120\n",
    "threshold=0.1\n",
    "molecules=['H2O','H2S', 'CO2']\n",
    "searchWindows(spectra_list,window,threshold, molecules)"
   ]
  },
  {
   "cell_type": "code",
   "execution_count": 110,
   "metadata": {},
   "outputs": [
    {
     "name": "stdout",
     "output_type": "stream",
     "text": [
      "('a', 1)\n",
      "('b', 2)\n",
      "('c', 3)\n"
     ]
    }
   ],
   "source": [
    "mol=['a','b','c']\n",
    "val=[1,2,3]\n",
    "for item in zip(mol,val):\n",
    "    print(item)"
   ]
  },
  {
   "cell_type": "code",
   "execution_count": null,
   "metadata": {},
   "outputs": [],
   "source": []
  }
 ],
 "metadata": {
  "kernelspec": {
   "display_name": "Python 3",
   "language": "python",
   "name": "python3"
  },
  "language_info": {
   "codemirror_mode": {
    "name": "ipython",
    "version": 3
   },
   "file_extension": ".py",
   "mimetype": "text/x-python",
   "name": "python",
   "nbconvert_exporter": "python",
   "pygments_lexer": "ipython3",
   "version": "3.7.3"
  }
 },
 "nbformat": 4,
 "nbformat_minor": 2
}
